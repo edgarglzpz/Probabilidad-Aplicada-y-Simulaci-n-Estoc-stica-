{
 "cells": [
  {
   "cell_type": "markdown",
   "metadata": {},
   "source": [
    "# Proyecto de Probabilidad. \n",
    "## Edgar González Paz"
   ]
  },
  {
   "cell_type": "code",
   "execution_count": 1,
   "metadata": {},
   "outputs": [],
   "source": [
    "import numpy as np\n",
    "import math as mt\n",
    "import matplotlib.pyplot as plt\n",
    "%matplotlib inline\n",
    "import pylab"
   ]
  },
  {
   "cell_type": "markdown",
   "metadata": {},
   "source": [
    "Ejercicio 1 Con ayuda del método de la transformación inversa haga un algoritmo para simular observaciones\n",
    "de una variable aleatoria con la siguiente función de densidad\n",
    "\\begin{equation}\n",
    "g(x)= \\frac{\\beta}{2}e^{-\\beta |x- \\alpha|}, \\hspace{0.1cm} x, \\alpha \\in \\mathbb{R}, \\hspace{0.1cm} \\beta > 0\n",
    "\\end{equation}"
   ]
  },
  {
   "cell_type": "markdown",
   "metadata": {},
   "source": [
    "Necesitamos la función de distribución, por ello integramos la función de densidad, entonces:\n",
    "\\begin{equation}\n",
    "G(x) = \\int_{-\\infty}^{x} g(y) dy = \\frac{\\beta}{2} \\int_{-\\infty}^{x} e^{-\\beta |y- \\alpha|} dy\n",
    "\\end{equation}\n",
    "Tenemos dos casos por el valor absoluto:\n",
    "\\begin{equation}\n",
    "|y-\\alpha|= \\left\\{\n",
    "                \\begin{array}{ll}\n",
    "                  y- \\alpha, \\hspace{0.1cm} si \\hspace{0.1cm} y- \\alpha \\hspace{0.1cm} \\geq 0\\\\\n",
    "                  -(y - \\alpha), \\hspace{0.1cm} si \\hspace{0.1cm} y- \\alpha \\hspace{0.1cm} < 0\n",
    "                \\end{array}\n",
    "              \\right.\n",
    "              \\end{equation}\n",
    "\n",
    "\\begin{equation}\n",
    "|y-\\alpha|= \\left\\{\n",
    "                \\begin{array}{ll}\n",
    "                  y- \\alpha, \\hspace{0.1cm} si \\hspace{0.1cm} y \\hspace{0.1cm} \\geq \\alpha\\\\\n",
    "                  \\alpha -y, \\hspace{0.1cm} si \\hspace{0.1cm} y \\hspace{0.1cm} < \\alpha\n",
    "                \\end{array}\n",
    "              \\right.\n",
    "              \\end{equation}\n",
    "            "
   ]
  },
  {
   "cell_type": "markdown",
   "metadata": {},
   "source": [
    "Caso 1. $ y < \\alpha $\n",
    "\\begin{equation}\n",
    "G(x)= \\frac{\\beta}{2} \\int_{-\\infty}^{x} e^{-\\beta |y- \\alpha|} dy = \\frac{\\beta}{2} \\int_{-\\infty}^{x} e^{-\\beta(\\alpha -y)} dy = \\frac{\\beta}{2} e^{- \\beta \\alpha} \\int_{-\\infty}^{x} e^{\\beta y} dy = \\frac{\\beta}{2} e^{- \\beta \\alpha} \\bigg( \\frac{e^{\\beta y}}{\\beta} \\bigg) \\bigg|_{- \\infty}^{x} = \\frac{\\beta}{2} e^{- \\beta \\alpha} \\bigg( \\frac{e^{\\beta x}}{\\beta} - \\lim_{x\\to -\\infty} \\frac{e^{\\beta y}}{\\beta} \\bigg) = \\frac{\\beta}{2} e^{- \\beta \\alpha} \\bigg( \\frac{e^{\\beta x}}{\\beta} -0 \\bigg) = \\frac{1}{2} e^{ \\beta(x- \\alpha)}\n",
    "\\end{equation}"
   ]
  },
  {
   "cell_type": "markdown",
   "metadata": {},
   "source": [
    "Caso 2. $ y \\geq \\alpha $\n",
    "\\begin{equation}\n",
    "G(x)= \\frac{\\beta}{2} \\int_{-\\infty}^{x} e^{-\\beta (y- \\alpha)} dy = \\frac{\\beta}{2} \\int_{-\\infty}^{\\alpha} e^{- \\beta (y - \\alpha)} dy + \\frac{\\beta}{2} \\int_{-\\infty}^{x} e^{- \\beta (y- \\alpha)} dy\n",
    "\\end{equation}"
   ]
  },
  {
   "cell_type": "markdown",
   "metadata": {},
   "source": [
    "Resolviedo la primera integral, tenemos que:"
   ]
  },
  {
   "cell_type": "markdown",
   "metadata": {},
   "source": [
    "\\begin{equation}\n",
    "\\frac{\\beta}{2} \\int_{-\\infty}^{\\alpha} e^{- \\beta (y - \\alpha)} dy = \\frac{1}{2}\n",
    "\\end{equation}"
   ]
  },
  {
   "cell_type": "markdown",
   "metadata": {},
   "source": [
    "Resolviendo la segunda integral, tenemos que:\n",
    "\\begin{equation}\n",
    "\\frac{\\beta}{2} \\int_{-\\infty}^{x} e^{- \\beta (y- \\alpha)} dy = \\frac{\\beta}{2} e^{\\beta \\alpha} \\bigg( \\frac{e^{-\\beta y}}{-\\beta} \\bigg) \\bigg|_{\\alpha}^{x} = - \\frac{1}{2} \\bigg( e^{- \\beta x}- e^{- \\beta \\alpha} \\bigg) = - \\frac{1}{2} \\bigg( e^{\\beta (\\alpha -x)} -1 \\bigg) = \\frac{1}{2} - \\frac{1}{2} e^{\\beta (\\alpha -x)}\n",
    "\\end{equation}"
   ]
  },
  {
   "cell_type": "markdown",
   "metadata": {},
   "source": [
    "De 1 y 2:\n",
    "\\begin{equation}\n",
    "G(x) = \\frac{1}{2} +\\frac{1}{2} - \\frac{1}{2} e^{\\beta (\\alpha -x)} = 1 - \\frac{1}{2} e^{\\beta (\\alpha -x)}\n",
    "\\end{equation}"
   ]
  },
  {
   "cell_type": "markdown",
   "metadata": {},
   "source": [
    "\\begin{equation}\n",
    "G(x)= \\left\\{\n",
    "                \\begin{array}{ll}\n",
    "                  \\frac{1}{2} e^{ \\beta(x- \\alpha)}, \\hspace{0.1cm} si \\hspace{0.1cm} x \\hspace{0.1cm} < \\hspace{0.1cm} \\alpha\\\\\n",
    "                  1 - \\frac{1}{2} e^{\\beta (\\alpha -x)}, \\hspace{0.1cm} si \\hspace{0.1cm} x \\hspace{0.1cm} \\geq \\hspace{0.1cm} \\alpha\n",
    "                \\end{array}\n",
    "              \\right.\n",
    "\\end{equation}"
   ]
  },
  {
   "cell_type": "markdown",
   "metadata": {},
   "source": [
    "Ahora calculamos la inversa generalizada: $G^{-1}(t)$\n",
    "\n",
    "Caso 1. $x < \\alpha $\n",
    "\n",
    "\\begin{equation}\n",
    "t= \\frac{1}{2} e^{ \\beta(x- \\alpha)}\n",
    "\\end{equation}\n",
    "\n",
    "\\begin{equation}\n",
    "2t= e^{ \\beta(x- \\alpha)}\n",
    "\\end{equation}\n",
    "\n",
    "\\begin{equation}\n",
    "ln(2t)= \\beta(x- \\alpha)\n",
    "\\end{equation}\n",
    "\n",
    "\\begin{equation}\n",
    "\\frac{ln(2t)}{\\beta}= x- \\alpha\n",
    "\\end{equation}\n",
    "\n",
    "\\begin{equation}\n",
    "x= \\alpha + \\frac{ln(2t)}{\\beta}\n",
    "\\end{equation}\n",
    "\n",
    "Caso 2. $x \\geq \\alpha$\n",
    "\\begin{equation}\n",
    "t=1 - \\frac{1}{2} e^{\\beta (\\alpha -x)}\n",
    "\\end{equation}\n",
    "\n",
    "\\begin{equation}\n",
    "1-t=\\frac{1}{2} e^{\\beta (\\alpha -x)}\n",
    "\\end{equation}\n",
    "\n",
    "\\begin{equation}\n",
    "2(1-t)= e^{\\beta (\\alpha -x)}\n",
    "\\end{equation}\n",
    "\n",
    "\\begin{equation}\n",
    "ln(2(1-t))= \\beta (\\alpha -x)\n",
    "\\end{equation}\n",
    "\n",
    "\\begin{equation}\n",
    "\\frac{ln(2(1-t))}{\\beta}= \\alpha -x\n",
    "\\end{equation}\n",
    "\n",
    "\\begin{equation}\n",
    "x= \\alpha - \\frac{ln(2(1-t))}{\\beta} \n",
    "\\end{equation}"
   ]
  },
  {
   "cell_type": "markdown",
   "metadata": {},
   "source": [
    "¿Cómo es t en los dos casos diferenteS?\n",
    "\n",
    "Caso 1. Como \n",
    "\\begin{equation}\n",
    "x < \\alpha  \\hspace{0.1cm} , \\hspace{0.1cm} x= \\alpha + \\frac{ln(2t)}{\\beta}\n",
    "\\end{equation}\n",
    "\n",
    "\\begin{equation}\n",
    "x - \\alpha < 0 \\hspace{0.1cm} , \\hspace{0.1cm} x- \\alpha = \\frac{ln(2t)}{\\beta}\n",
    "\\end{equation}\n",
    "\n",
    "\\begin{equation}\n",
    "\\frac{ln(2t)}{\\beta} < 0 \n",
    "\\end{equation}\n",
    "\n",
    "\\begin{equation}\n",
    "ln(2t) < 0 \n",
    "\\end{equation}\n",
    "\n",
    "\\begin{equation}\n",
    "1>2t\n",
    "\\end{equation}\n",
    "\n",
    "\\begin{equation}\n",
    "t< \\frac{1}{2}\n",
    "\\end{equation}\n",
    "\n",
    "Caso 2. Como\n",
    "\n",
    "\\begin{equation}\n",
    "x \\geq \\alpha \\hspace{0.1cm} , \\hspace{0.1cm} x= \\alpha - \\frac{ln(2(1-t))}{\\beta} \n",
    "\\end{equation}\n",
    "\n",
    "\\begin{equation}\n",
    "x - \\alpha \\geq 0 \\hspace{0.1cm} , \\hspace{0.1cm} x- \\alpha = -\\frac{ln(2(1-t))}{\\beta} \n",
    "\\end{equation}\n",
    "\n",
    "\\begin{equation}\n",
    "-\\frac{ln(2(1-t))}{\\beta}  \\geq 0 \n",
    "\\end{equation}\n",
    "\n",
    "\\begin{equation}\n",
    "\\frac{ln(2(1-t))}{\\beta}  \\leqslant 0 \n",
    "\\end{equation}\n",
    "\n",
    "\\begin{equation}\n",
    "ln(2(1-t)) \\leqslant 0 \n",
    "\\end{equation}\n",
    "\n",
    "\\begin{equation}\n",
    "2(1-t) \\leqslant 1 \n",
    "\\end{equation}\n",
    "\n",
    "\\begin{equation}\n",
    "1-t \\leqslant \\frac{1}{2} \n",
    "\\end{equation}\n",
    "\n",
    "\\begin{equation}\n",
    "-t \\leqslant -\\frac{1}{2} \n",
    "\\end{equation}\n",
    "\n",
    "\\begin{equation}\n",
    "t \\geq \\frac{1}{2} \n",
    "\\end{equation}"
   ]
  },
  {
   "cell_type": "markdown",
   "metadata": {},
   "source": [
    "Entonces tenemos la inversa generalizada:\n",
    "\\begin{equation}\n",
    "G^{-1}(t)= \\left\\{\n",
    "                \\begin{array}{ll}\n",
    "                  \\alpha + \\frac{ln(2t)}{\\beta}, \\hspace{0.1cm} si \\hspace{0.1cm} t \\hspace{0.1cm} < \\hspace{0.1cm} \\frac{1}{2}\\\\\n",
    "                  \\alpha - \\frac{ln(2(1-t))}{\\beta}, \\hspace{0.1cm} si \\hspace{0.1cm} t \\hspace{0.1cm} \\geq \\hspace{0.1cm} \\frac{1}{2}\n",
    "                \\end{array}\n",
    "              \\right.\n",
    "\\end{equation}\n",
    "    "
   ]
  },
  {
   "cell_type": "code",
   "execution_count": 2,
   "metadata": {},
   "outputs": [],
   "source": [
    "def Simg(alpha,beta,N):\n",
    "    Simulaciones=[]\n",
    "    SimUnif=np.random.rand(N)\n",
    "    for i in range(N):\n",
    "        if SimUnif[i] < 1/2:\n",
    "            Simulaciones.append(alpha + (np.log(2*SimUnif[i]))/beta)\n",
    "        if SimUnif[i] >= 1/2:\n",
    "            Simulaciones.append(alpha - (np.log(2-2*SimUnif[i]))/beta)\n",
    "    return Simulaciones"
   ]
  },
  {
   "cell_type": "code",
   "execution_count": 3,
   "metadata": {},
   "outputs": [],
   "source": [
    "muestra_g = Simg(alpha=2,beta=1,N=1000000)"
   ]
  },
  {
   "cell_type": "code",
   "execution_count": 4,
   "metadata": {},
   "outputs": [
    {
     "data": {
      "image/png": "[encoded data removed]",
      "text/plain": [
       "<Figure size 432x288 with 1 Axes>"
      ]
     },
     "metadata": {
      "needs_background": "light"
     },
     "output_type": "display_data"
    }
   ],
   "source": [
    "pylab.hist(muestra_g, bins=100, density=True)\n",
    "pylab.show()"
   ]
  },
  {
   "cell_type": "code",
   "execution_count": 5,
   "metadata": {},
   "outputs": [],
   "source": [
    "def g(alpha,beta,x):\n",
    "    if x<alpha:\n",
    "        g=(beta/2)*(np.exp(-beta*(alpha-x)))\n",
    "    if x>= alpha:\n",
    "        g=(beta/2)*(np.exp(-beta*(x-alpha)))\n",
    "    return g"
   ]
  },
  {
   "cell_type": "code",
   "execution_count": 6,
   "metadata": {},
   "outputs": [],
   "source": [
    "xGrid=np.arange(min(muestra_g),max(muestra_g),0.01)"
   ]
  },
  {
   "cell_type": "code",
   "execution_count": 7,
   "metadata": {},
   "outputs": [],
   "source": [
    "yGrid=[]\n",
    "for i in range(len(xGrid)):\n",
    "        yGrid.append(g(alpha=2,beta=1,x=xGrid[i]))"
   ]
  },
  {
   "cell_type": "code",
   "execution_count": 8,
   "metadata": {},
   "outputs": [
    {
     "data": {
      "image/png": "[encoded data removed]",
      "text/plain": [
       "<Figure size 432x288 with 1 Axes>"
      ]
     },
     "metadata": {
      "needs_background": "light"
     },
     "output_type": "display_data"
    }
   ],
   "source": [
    "pylab.plot(xGrid, yGrid, color=\"red\", label='Densidad')\n",
    "pylab.hist(muestra_g, 50, density=True, label='Muestra')\n",
    "pylab.legend(loc='upper left')\n",
    "pylab.title(\"Simulacion vs Densidad g(2,1)\")\n",
    "pylab.show()"
   ]
  },
  {
   "cell_type": "markdown",
   "metadata": {},
   "source": [
    "Para el 2 fail :c"
   ]
  },
  {
   "cell_type": "code",
   "execution_count": 9,
   "metadata": {},
   "outputs": [],
   "source": [
    "muestra_2=Simg(alpha=0,beta=1,N=1000000)"
   ]
  },
  {
   "cell_type": "code",
   "execution_count": 10,
   "metadata": {},
   "outputs": [],
   "source": [
    "N=1000000\n",
    "NormalGen=[]\n",
    "SimUnif2=np.random.rand(N)\n",
    "for i in range(1000000):\n",
    "    if SimUnif2[i] <= np.exp(-((muestra_2[i]**2)/2) + abs(muestra_2[i])-(1/2)):\n",
    "        NormalGen.append(muestra_2[i])"
   ]
  },
  {
   "cell_type": "code",
   "execution_count": 16,
   "metadata": {},
   "outputs": [
    {
     "data": {
      "text/plain": [
       "760782"
      ]
     },
     "execution_count": 16,
     "metadata": {},
     "output_type": "execute_result"
    }
   ],
   "source": [
    "len(NormalGen) #se generan menos de las que queremos"
   ]
  },
  {
   "cell_type": "code",
   "execution_count": 11,
   "metadata": {},
   "outputs": [],
   "source": [
    "def f(x):\n",
    "    g=(1/(2*mt.pi)**(1/2))*np.exp(-(x**2)/2)\n",
    "    return g"
   ]
  },
  {
   "cell_type": "code",
   "execution_count": 12,
   "metadata": {},
   "outputs": [],
   "source": [
    "xGrid2=np.arange(min(muestra_2),max(muestra_2),0.01)"
   ]
  },
  {
   "cell_type": "code",
   "execution_count": 13,
   "metadata": {},
   "outputs": [],
   "source": [
    "yGrid2=[]\n",
    "for i in range(len(xGrid2)):\n",
    "        yGrid2.append(f(x=xGrid2[i]))"
   ]
  },
  {
   "cell_type": "code",
   "execution_count": 14,
   "metadata": {},
   "outputs": [
    {
     "data": {
      "image/png": "[encoded data removed]",
      "text/plain": [
       "<Figure size 432x288 with 1 Axes>"
      ]
     },
     "metadata": {
      "needs_background": "light"
     },
     "output_type": "display_data"
    }
   ],
   "source": [
    "pylab.plot(xGrid2, yGrid2, color=\"red\", label='Densidad de una N(0,1)')\n",
    "pylab.hist(muestra_2, 100, density=True, label='Muestra')\n",
    "pylab.legend(loc='upper left')\n",
    "pylab.title(\"Simulacion vs Densidad N(0,1)\")\n",
    "pylab.show()"
   ]
  }
 ],
 "metadata": {
  "kernelspec": {
   "display_name": "Python 3",
   "language": "python",
   "name": "python3"
  },
  "language_info": {
   "codemirror_mode": {
    "name": "ipython",
    "version": 3
   },
   "file_extension": ".py",
   "mimetype": "text/x-python",
   "name": "python",
   "nbconvert_exporter": "python",
   "pygments_lexer": "ipython3",
   "version": "3.7.6"
  }
 },
 "nbformat": 4,
 "nbformat_minor": 2
}
