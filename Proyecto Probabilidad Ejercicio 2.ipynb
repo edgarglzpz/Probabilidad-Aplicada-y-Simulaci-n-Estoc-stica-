{
 "cells": [
  {
   "cell_type": "code",
   "execution_count": 1,
   "metadata": {},
   "outputs": [],
   "source": [
    "import numpy as np\n",
    "import math as mt\n",
    "import matplotlib.pyplot as plt\n",
    "import random \n",
    "%matplotlib inline\n",
    "import pylab"
   ]
  },
  {
   "cell_type": "markdown",
   "metadata": {},
   "source": [
    "Ejercicio 2. Con ayuda del algoritmo de aceptación y rechazo, y utilizando la densidad y el algoritmo que\n",
    "creo en el ejercicio anterior vamos a simular observaciones de una distribución normal estándar, en este caso\n",
    "vamos a utilizar $\\alpha = 0$."
   ]
  },
  {
   "cell_type": "markdown",
   "metadata": {},
   "source": [
    "2.1. Encuentre el valor de M, tal que f(x) ≤ Mg(x), cuidando que la probabilidad de aceptación sea óptima."
   ]
  },
  {
   "cell_type": "markdown",
   "metadata": {},
   "source": [
    "Queremos simular\n",
    "\\begin{equation}\n",
    "f(x; \\mu=0, \\sigma=1)= \\frac{1}{\\sqrt{2\\pi}}e^{\\frac{-x^{2}}{2}}\n",
    "\\end{equation}\n",
    "a través de la función instrumental\n",
    "\\begin{equation}\n",
    "y \\sim g(y; \\alpha, \\beta)= \\frac{\\beta}{2}e^{-\\beta |x|} \\hspace{0.1cm} con \\hspace{0.1cm} \\alpha=0\n",
    "\\end{equation}"
   ]
  },
  {
   "cell_type": "markdown",
   "metadata": {},
   "source": [
    "Simular $M \\in \\mathbb{R} \\ \\backepsilon f(x) \\leqslant Mg(x) $. Sea $ h(x) = \\frac{f(x)}{g(x)} \\leqslant M $, debemos encontrar el máximo de h(x)\n",
    "\n",
    "\\begin{equation}\n",
    "h(x)= \\frac{\\frac{1}{\\sqrt{2\\pi}}e^{\\frac{-x^{2}}{2}}}{\\frac{\\beta}{2}e^{-\\beta |x|}} = \\frac{2}{\\sqrt{2\\pi} \\beta} e^{\\frac{-x^{2}}{2} + \\beta |x|}\n",
    "\\end{equation}\n",
    "\n",
    "Usamos el kernel,\n",
    "\n",
    "\\begin{equation}\n",
    "\\hat{h}(x) = e^{\\frac{-x^{2}}{2} + \\beta |x|}\n",
    "\\end{equation}\n",
    "\n",
    "Para el máximo,\n",
    "\n",
    "\\begin{equation}\n",
    "log(\\hat{h}(x))= log(e^{\\frac{-x^{2}}{2} + \\beta |x|}) = \\frac{-x^{2}}{\\beta |x|}\n",
    "\\end{equation}\n",
    "\n",
    "\\begin{equation}\n",
    "\\frac{\\partial log(\\hat{h}(x))}{\\partial x}= -x + \\beta \\frac{\\partial |x|}{\\partial x}= -x + \\beta \\frac{x}{|x|}=0\n",
    "\\end{equation}\n",
    "\n",
    "Esto implica que,\n",
    "\n",
    "\\begin{equation}\n",
    "-x + \\beta \\frac{x}{|x|}=0\n",
    "\\end{equation}\n",
    "\n",
    "\\begin{equation}\n",
    "x (-1+ \\frac{\\beta}{|x|})=0\n",
    "\\end{equation}\n",
    "\n",
    "\\begin{equation}\n",
    "x= 0 \\land -1+ \\frac{\\beta}{|x|}=0\n",
    "\\end{equation}\n",
    "\n",
    "\\begin{equation}\n",
    "\\frac{\\beta -|x|}{|x|}=0\n",
    "\\end{equation}\n",
    "\n",
    "\\begin{equation}\n",
    "\\beta -|x|=0, |x| \\neq 0\n",
    "\\end{equation}\n",
    "\n",
    "\\begin{equation}\n",
    "|x|=\\beta , |x| \\neq 0\n",
    "\\end{equation}\n",
    "\n",
    "\\begin{equation}\n",
    "x=0 \\land x= -\\beta \n",
    "\\end{equation}\n",
    "\n",
    "Pero $\\beta >0$, entonces $ x= \\beta$, ¿es máximo?\n",
    "\n",
    "\\begin{equation}\n",
    "\\frac{\\partial^2 log(\\hat{h}(x))}{\\partial x} = -1 < 0\n",
    "\\end{equation}\n",
    "\n",
    "Por lo tanto, $x^{*} = \\beta $ es el máximo.\n",
    "$M = h(x*)= \\frac{2}{\\sqrt{2\\pi} \\beta} e^{\\frac{-\\beta^{2}}{2} + \\beta |\\beta|}= \\frac{2}{\\sqrt{2\\pi} \\beta} e^{\\frac{-\\beta^{2}}{2} + \\beta^{2}}$\n",
    "\n",
    "Ahora hay que encontrar a $\\beta^{*}$ que minimiza a $M(\\beta)$,\n",
    "\n",
    "\\begin{equation}\n",
    "\\hat{M}(\\beta)= e^{\\frac{-\\beta^{2}}{2} + \\beta^{2}}\n",
    "\\end{equation}\n",
    "\n",
    "\\begin{equation}\n",
    "log(\\hat{M}(\\beta))= log(e^{\\frac{-\\beta^{2}}{2} + \\beta^{2}}) = log(e^{\\frac{-\\beta^{2}}{2}) - log(\\beta) = \\frac{-\\beta^{2}}{2} + \\beta^{2}} - log(\\beta)\n",
    "\\end{equation}\n",
    "\n",
    "\\begin{equation}\n",
    "\\frac{\\partial^2 log(\\hat{M}(\\beta))}{\\partial x}= \\beta^{2} - \\frac{1}{\\beta} = 0\n",
    "\\end{equation}\n",
    "\n",
    "\\begin{equation}\n",
    "\\frac{\\beta^{3} -1}{\\beta}=0 \\implies \\beta^{3}-1=0 \\implies \\beta^{3}=1 \\implies \\beta^{*}=1\n",
    "\\end{equation}\n",
    "\n",
    "¿Es mínimo?\n",
    "\n",
    "\\begin{equation}\n",
    "\\frac{\\partial^2 log(\\hat{M}(\\beta))}{\\partial x} = 2 \\beta + \\frac{1}{\\beta^{2}}\n",
    "\\end{equation}\n",
    "\n",
    "Por un lado, $\\beta >0 \\implies 2\\beta >0$ y $\\beta^{2}>0 \\implies \\frac{1}{\\beta^{2}} >0$. Por lo tanto, $\\beta^{*}=1$ sí es mínimo.\n",
    "\n",
    "\\begin{equation}\n",
    "M(\\beta^{*})= \\frac{2}{\\sqrt{2\\pi}} e^{1/2}\n",
    "\\end{equation}\n",
    "\n",
    "Luego, hay que encontrar el valor de $\\frac{f(x)}{Mg(x)}$\n",
    "\n",
    "\\begin{equation}\n",
    "\\frac{f(x)}{Mg(x)}= \\frac{h(x)}{M} = \\frac{\\frac{2}{\\sqrt{2\\pi}} e^{\\frac{-x^{2}}{2} +|x|}}{\\frac{2}{\\sqrt{2\\pi}} e^{1/2}} = e^{\\frac{-x^{2}}{2} +|x| - \\frac{1}{2}}\n",
    "\\end{equation}"
   ]
  },
  {
   "cell_type": "markdown",
   "metadata": {},
   "source": [
    "2.2. ¿Cuántas iteraciones se necesitan para aceptar una simulación de Y como una de X?"
   ]
  },
  {
   "cell_type": "markdown",
   "metadata": {},
   "source": [
    "$P(Aceptar)= \\frac{1}{M}= \\frac{1}{\\frac{2}{\\sqrt{2\\pi}} e^{1/2}} = \\frac{\\sqrt{2\\pi}}{2} e^{1/2}$"
   ]
  },
  {
   "cell_type": "code",
   "execution_count": 19,
   "metadata": {},
   "outputs": [
    {
     "data": {
      "text/plain": [
       "2.0663656770612464"
      ]
     },
     "execution_count": 19,
     "metadata": {},
     "output_type": "execute_result"
    }
   ],
   "source": [
    "#Es igual a \n",
    "((mt.sqrt(2*mt.pi))/(2))*(np.exp(1/2))"
   ]
  },
  {
   "cell_type": "markdown",
   "metadata": {},
   "source": [
    "2.3 Haga un algoritmo para generar normales estándar utilizando A-R prográmelo y haga un histograma con\n",
    "1, 000, 000 de observaciones y compárelo con la densidad real."
   ]
  },
  {
   "cell_type": "code",
   "execution_count": 2,
   "metadata": {},
   "outputs": [],
   "source": [
    "def Generag(alpha,beta):\n",
    "    v=random.random()\n",
    "    if v < 1/2:\n",
    "        y=alpha + (np.log(2*v))/beta\n",
    "    else:\n",
    "        y=alpha - (np.log(2-2*v))/beta\n",
    "    return y"
   ]
  },
  {
   "cell_type": "code",
   "execution_count": 3,
   "metadata": {},
   "outputs": [],
   "source": [
    "def Normal(alpha,beta):\n",
    "    valor=0\n",
    "    v=1\n",
    "    while valor<=v:\n",
    "        y=Generag(alpha,beta)\n",
    "        v=random.random()\n",
    "        valor=np.exp(-((y**2)/2) + abs(y)-(1/2))\n",
    "    return y"
   ]
  },
  {
   "cell_type": "code",
   "execution_count": 4,
   "metadata": {},
   "outputs": [],
   "source": [
    "def GeneraNormales(alpha,beta,N):\n",
    "    Simulaciones=[]\n",
    "    for i in range(N):\n",
    "        x=Normal(alpha,beta)\n",
    "        Simulaciones.append(x)\n",
    "    return Simulaciones"
   ]
  },
  {
   "cell_type": "code",
   "execution_count": 5,
   "metadata": {},
   "outputs": [],
   "source": [
    "observaciones=GeneraNormales(0,1,1000000)"
   ]
  },
  {
   "cell_type": "code",
   "execution_count": 13,
   "metadata": {},
   "outputs": [],
   "source": [
    "def NormalEstandar(x):\n",
    "    g=(1/(2*mt.pi)**(1/2))*np.exp(-(x**2)/2)\n",
    "    return g"
   ]
  },
  {
   "cell_type": "code",
   "execution_count": 14,
   "metadata": {},
   "outputs": [],
   "source": [
    "xGrid2=np.arange(min(observaciones),max(observaciones),0.01)"
   ]
  },
  {
   "cell_type": "code",
   "execution_count": 15,
   "metadata": {},
   "outputs": [],
   "source": [
    "yGrid2=[]\n",
    "for i in range(len(xGrid2)):\n",
    "        yGrid2.append(NormalEstandar(x=xGrid2[i]))"
   ]
  },
  {
   "cell_type": "code",
   "execution_count": 16,
   "metadata": {},
   "outputs": [
    {
     "data": {
      "image/png": "[encoded data removed]",
      "text/plain": [
       "<Figure size 432x288 with 1 Axes>"
      ]
     },
     "metadata": {
      "needs_background": "light"
     },
     "output_type": "display_data"
    }
   ],
   "source": [
    "pylab.plot(xGrid2, yGrid2, color=\"red\", label='Densidad de una N(0,1)')\n",
    "pylab.hist(observaciones, 100, density=True, label='Muestra')\n",
    "pylab.legend(loc='upper left')\n",
    "pylab.title(\"Simulacion vs Densidad N(0,1)\")\n",
    "pylab.show()"
   ]
  },
  {
   "cell_type": "code",
   "execution_count": null,
   "metadata": {},
   "outputs": [],
   "source": []
  }
 ],
 "metadata": {
  "kernelspec": {
   "display_name": "Python 3",
   "language": "python",
   "name": "python3"
  },
  "language_info": {
   "codemirror_mode": {
    "name": "ipython",
    "version": 3
   },
   "file_extension": ".py",
   "mimetype": "text/x-python",
   "name": "python",
   "nbconvert_exporter": "python",
   "pygments_lexer": "ipython3",
   "version": "3.7.6"
  }
 },
 "nbformat": 4,
 "nbformat_minor": 2
}
