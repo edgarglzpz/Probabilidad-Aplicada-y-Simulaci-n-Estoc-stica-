{
 "cells": [
  {
   "cell_type": "code",
   "execution_count": 1,
   "metadata": {},
   "outputs": [],
   "source": [
    "import numpy as np\n",
    "import math as mt\n",
    "import matplotlib.pyplot as plt\n",
    "import random \n",
    "%matplotlib inline\n",
    "import pylab"
   ]
  },
  {
   "cell_type": "markdown",
   "metadata": {},
   "source": [
    "Ejercicio 4 Sea Z ∼ Normal(0, 1), aproxima vía Monte Carlo P(Z > 4.5), si utilizas la manera obvia\n",
    "resultará que es 0, busca al menos dos opciones que me den una aproximación que no sea 0."
   ]
  },
  {
   "cell_type": "markdown",
   "metadata": {},
   "source": [
    "Observamos que podemos estimar la probabilidad del complemento de $(-\\infty, -4.5) \\cup (4.5, \\infty)$, es decir, la probabilidad de $(-4.5,4.5)$. Para ello observamos que,\n",
    "\n",
    "\\begin{equation}\n",
    "\\theta = P(Z>4.5) =  P( z \\in [4.5, \\infty))=  \\hspace{0.1cm} Por \\hspace{0.1cm} ser \\hspace{0.1cm} simétrica \\hspace{0.1cm} = P(z \\in (-\\infty,-4.5])=P(Z<4.5) \\implies P(Z>4.5)=P(Z<4.5)\n",
    "\\end{equation}\n",
    "\n",
    "Sea \n",
    "\\begin{equation}\n",
    "\\alpha= P(z \\in (-4.5,4.5))= \\int_{-4.5}^{4.5} \\frac{1}{\\sqrt{2\\pi}}e^{\\frac{-z^{2}}{2}} dz = \\frac{1}{\\sqrt{2\\pi}} \\int_{-4.5}^{4.5} e^{\\frac{-z^{2}}{2}} dz\n",
    "\\end{equation}\n",
    "\n",
    "Hay que estimar la integral \n",
    "\n",
    "\\begin{equation}\n",
    "I_{R}= \\int_{-4.5}^{4.5} e^{\\frac{-z^{2}}{2}} dz\n",
    "\\end{equation}\n",
    "\n",
    "\n",
    "Además,\n",
    "\n",
    "\\begin{equation}\n",
    "\\alpha=1 - 2\\theta \\implies \\theta = \\frac{1-\\alpha}{2} ...(1)\n",
    "\\end{equation}\n",
    "\n",
    "Para estimar la integral $I_{R}$ hacemos lo siguiente:\n",
    "\n",
    "1. Simulamos \n",
    "\n",
    "\\begin{equation}\n",
    "u \\sim U(0,1) \\implies X=(b-a)u + a= 9u +4.5\n",
    "\\end{equation}\n",
    "\n",
    "2. Simulamos \n",
    "\n",
    "\\begin{equation}\n",
    "v \\sim V(0,\\frac{1}{\\sqrt{2\\pi}}) \\implies Y= Mv=\\frac{1}{\\sqrt{2\\pi}} v\n",
    "\\end{equation}\n",
    "\n",
    "3. Simular N parejas y evaluar en \n",
    "\n",
    "\\begin{equation}\n",
    "N_{f}^{R}= \\sum _{i=1}^{N} \\mathbb{1}_{C_{R}}(x_{i},y_{i})\n",
    "\\end{equation}\n",
    "\n",
    "\\begin{equation}\n",
    "donde \\hspace{0.1cm} C_{R}= ((x,y) | -4.5 < x_{i} < 4.5, 0< y_{i} < e^{\\frac{-x_{i}^{2}}{2}})\n",
    "\\end{equation}\n",
    "\n",
    "\n",
    "4. $I_{R} \\approx \\frac{1}{\\sqrt{2\\pi}}  \\frac{9N_{f}^{R}}{N}$\n",
    "\n",
    "De (1) obtenemos a $\\theta$."
   ]
  },
  {
   "cell_type": "code",
   "execution_count": 2,
   "metadata": {},
   "outputs": [],
   "source": [
    "def Stnormal(x):\n",
    "    f=(1/(2*mt.pi)**(1/2))*np.exp(-(x**2/2))\n",
    "    return f"
   ]
  },
  {
   "cell_type": "code",
   "execution_count": 3,
   "metadata": {},
   "outputs": [],
   "source": [
    "def Theta1(a,b,M,N):\n",
    "    U=np.random.rand(N)\n",
    "    X=((b-a)*U) +a\n",
    "    V=np.random.rand(N)\n",
    "    Y=M*V\n",
    "    Lista=[]\n",
    "    for i in range(len(X)):\n",
    "        if Y[i]< Stnormal(X[i]):\n",
    "            Lista.append(1)\n",
    "    else:\n",
    "        Lista.append(0)\n",
    "    Nf=sum(Lista)\n",
    "    theta=(M*(b-a)*Nf)/(N)\n",
    "    theta1=(1-theta)/2\n",
    "    return theta1"
   ]
  },
  {
   "cell_type": "code",
   "execution_count": 4,
   "metadata": {},
   "outputs": [
    {
     "data": {
      "text/plain": [
       "0.0016861843290754686"
      ]
     },
     "execution_count": 4,
     "metadata": {},
     "output_type": "execute_result"
    }
   ],
   "source": [
    "Theta1(-4.5,4.5,(1/(2*mt.pi)**(1/2)),1000000)"
   ]
  },
  {
   "cell_type": "markdown",
   "metadata": {},
   "source": [
    "Segunda forma.\n",
    "\n",
    "\\begin{equation}\n",
    "1-2\\theta_{2}= P(z \\in (-4.5,4.5))= 2P(z \\in (0,4.5))\n",
    "\\end{equation}\n",
    "\n",
    "\n",
    "\\begin{equation}\n",
    "\\implies \\theta_{2} = \\frac{1}{2} - P(z \\in (0,4.5)) = \\frac{1}{2} - \\frac{1}{\\sqrt{2\\pi}} \\int_{0}^{4.5} e^{\\frac{-z^{2}}{2}} dz = \\frac{1}{2} - \\frac{1}{\\sqrt{2\\pi}} \\int_{\\mathbb{R}}^{} e^{\\frac{-z^{2}}{2}} \\mathbb{1}_{(0,4.5)}(z) \\frac{4.5}{4.5} dz\n",
    "\\end{equation}\n",
    "\n",
    "Donde, de la segunda parte de la igualdad,\n",
    "\\begin{equation}\n",
    "h(x)= \\frac{4.5}{\\sqrt{2\\pi}} e^{\\frac{-z^{2}}{2}}$ y $g(x)=\\frac{1}{4.5} \\mathbb{1}_{(0,4.5)}(z)\n",
    "\\end{equation}\n",
    "\n",
    "Entonces,\n",
    "\\begin{equation}\n",
    "\\implies \\theta_{2} = \\frac{1}{2} + \\mathbb{E}_{g}  \\left( h \\right)\n",
    "\\end{equation}\n",
    "\n",
    "\\begin{equation}\n",
    "\\implies \\mathbb{E}_{g} \\left( h \\right)= \\frac{1}{N} \\sum_{i=1}^{N} h(x) \\approx \\frac{1}{N} \\sum_{i=1}^{N} \\frac{4.5}{\\sqrt{2\\pi}} e^{\\frac{-z_{i}^{2}}{2}} \\hspace{0.1cm} con \\hspace{0.1cm} z_{i} \\sim U(0,4.5)\n",
    "\\end{equation}\n",
    "\n",
    "Por lo tanto,\n",
    "\n",
    "\\begin{equation}\n",
    "\\implies \\hat{\\theta}_{2} \\approx \\frac{1}{2} -  \\frac{4.5}{\\sqrt{2\\pi}N} \\sum_{i=1}^{N} e^{\\frac{-z_{i}^{2}}{2}}\n",
    "\\end{equation}\n"
   ]
  },
  {
   "cell_type": "code",
   "execution_count": 5,
   "metadata": {},
   "outputs": [
    {
     "data": {
      "text/plain": [
       "array([1.72474578, 4.29555485, 3.16092994, ..., 3.04429661, 2.76442576,\n",
       "       1.83383464])"
      ]
     },
     "execution_count": 5,
     "metadata": {},
     "output_type": "execute_result"
    }
   ],
   "source": [
    "#Forma 2\n",
    "N1=10000\n",
    "alp=0\n",
    "bet=4.5\n",
    "U=np.random.rand(N1)\n",
    "Z=((bet-alp)*U) +alp\n",
    "Z"
   ]
  },
  {
   "cell_type": "code",
   "execution_count": 6,
   "metadata": {},
   "outputs": [],
   "source": [
    "sum(mt.exp(-(Z[i]**2)/2) for i in range(N1))\n",
    "M=(1/(2*mt.pi)**(1/2))"
   ]
  },
  {
   "cell_type": "code",
   "execution_count": 7,
   "metadata": {},
   "outputs": [
    {
     "data": {
      "text/plain": [
       "0.001754673341537838"
      ]
     },
     "execution_count": 7,
     "metadata": {},
     "output_type": "execute_result"
    }
   ],
   "source": [
    "1/2 - ((4.5*M)/(N1))*sum(mt.exp(-(Z[i]**2)/2) for i in range(N1))"
   ]
  },
  {
   "cell_type": "code",
   "execution_count": 8,
   "metadata": {},
   "outputs": [],
   "source": [
    "def Theta2(alp,bet,M,N1):\n",
    "    U=np.random.rand(N1)\n",
    "    Z=((bet-alp)*U) +alp\n",
    "    theta2=1/2 - ((4.5*M)/(N1))*sum(mt.exp(-(Z[i]**2)/2) for i in range(N1))\n",
    "    return theta2"
   ]
  },
  {
   "cell_type": "code",
   "execution_count": 9,
   "metadata": {},
   "outputs": [
    {
     "data": {
      "text/plain": [
       "-0.00025475918762618566"
      ]
     },
     "execution_count": 9,
     "metadata": {},
     "output_type": "execute_result"
    }
   ],
   "source": [
    "Theta2(-4.5,4.5,(1/(2*mt.pi)**(1/2)),1000000)"
   ]
  },
  {
   "cell_type": "code",
   "execution_count": null,
   "metadata": {},
   "outputs": [],
   "source": []
  }
 ],
 "metadata": {
  "kernelspec": {
   "display_name": "Python 3",
   "language": "python",
   "name": "python3"
  },
  "language_info": {
   "codemirror_mode": {
    "name": "ipython",
    "version": 3
   },
   "file_extension": ".py",
   "mimetype": "text/x-python",
   "name": "python",
   "nbconvert_exporter": "python",
   "pygments_lexer": "ipython3",
   "version": "3.7.3"
  }
 },
 "nbformat": 4,
 "nbformat_minor": 2
}
